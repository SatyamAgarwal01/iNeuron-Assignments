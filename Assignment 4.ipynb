{
 "cells": [
  {
   "cell_type": "markdown",
   "id": "d564dcab-b66c-46bf-909a-f41bf6be1b46",
   "metadata": {},
   "source": [
    "1. What exactly is []?"
   ]
  },
  {
   "cell_type": "markdown",
   "id": "f7298910-3603-424f-ba74-16f2b9de93ef",
   "metadata": {},
   "source": [
    " Ans. [] is an empty list\n",
    "           L =[ ]\n"
   ]
  },
  {
   "cell_type": "markdown",
   "id": "e0e25e99-c60f-44a7-91d8-241a5d086a33",
   "metadata": {},
   "source": [
    "2. In a list of values stored in a variable called spam, how would you assign the value 'hello' as the third value? (Assume [2, 4, 6, 8, 10] are in spam.)"
   ]
  },
  {
   "cell_type": "markdown",
   "id": "040608eb-fb80-4e57-b91f-2d5c32b460f6",
   "metadata": {},
   "source": [
    "Ans."
   ]
  },
  {
   "cell_type": "code",
   "execution_count": 1,
   "id": "308f0f84-1ea5-41a5-8fa4-cd928d5b215e",
   "metadata": {},
   "outputs": [
    {
     "data": {
      "text/plain": [
       "[2, 4, 'hello', 8, 10]"
      ]
     },
     "execution_count": 1,
     "metadata": {},
     "output_type": "execute_result"
    }
   ],
   "source": [
    "spam = [2, 4, 6, 8, 10]\n",
    "spam[2] = 'hello'\n",
    "spam"
   ]
  },
  {
   "cell_type": "markdown",
   "id": "5bd6f5ab-e805-4201-a611-904c4d1f8993",
   "metadata": {},
   "source": [
    "Let's pretend the spam includes the list ['a', 'b', 'c', 'd'] for the next three queries."
   ]
  },
  {
   "cell_type": "markdown",
   "id": "1987441b-d170-4e5d-8e9a-a9399303c4c3",
   "metadata": {},
   "source": [
    "3. What is the value of spam[int(int('3' * 2) / 11)]?"
   ]
  },
  {
   "cell_type": "markdown",
   "id": "27cb48ce-1584-40d9-9e20-f23a02a75b88",
   "metadata": {},
   "source": [
    "Ans."
   ]
  },
  {
   "cell_type": "code",
   "execution_count": 2,
   "id": "7fccb62e-f989-47da-8e4e-7c6731073b3c",
   "metadata": {},
   "outputs": [
    {
     "data": {
      "text/plain": [
       "'d'"
      ]
     },
     "execution_count": 2,
     "metadata": {},
     "output_type": "execute_result"
    }
   ],
   "source": [
    "spam = ['a', 'b','c','d']\n",
    "spam[int(int('3' * 2) / 11)]"
   ]
  },
  {
   "cell_type": "markdown",
   "id": "43e155cf-0912-4926-8eea-7846af086513",
   "metadata": {},
   "source": [
    "4. What is the value of spam[-1]?"
   ]
  },
  {
   "cell_type": "markdown",
   "id": "6775d1ea-ae55-4a73-8f05-8aad20f7f8f8",
   "metadata": {},
   "source": [
    "Ans."
   ]
  },
  {
   "cell_type": "code",
   "execution_count": 3,
   "id": "1958801f-3dce-4f80-aa6c-2cd5769ced2b",
   "metadata": {},
   "outputs": [
    {
     "data": {
      "text/plain": [
       "'d'"
      ]
     },
     "execution_count": 3,
     "metadata": {},
     "output_type": "execute_result"
    }
   ],
   "source": [
    "spam[-1]"
   ]
  },
  {
   "cell_type": "markdown",
   "id": "57dc26c6-d145-4134-a4fb-40a3aa69b83d",
   "metadata": {},
   "source": [
    "5. What is the value of spam[:2]?"
   ]
  },
  {
   "cell_type": "markdown",
   "id": "25939167-d934-436a-9e83-e4043d17c9b0",
   "metadata": {},
   "source": [
    "Ans."
   ]
  },
  {
   "cell_type": "code",
   "execution_count": 4,
   "id": "cfd5f6c7-88bb-428d-92e5-e06582af2254",
   "metadata": {},
   "outputs": [
    {
     "data": {
      "text/plain": [
       "['a', 'b']"
      ]
     },
     "execution_count": 4,
     "metadata": {},
     "output_type": "execute_result"
    }
   ],
   "source": [
    "spam[:2]"
   ]
  },
  {
   "cell_type": "markdown",
   "id": "79bdb02a-ce2a-4783-a330-459a4f167d02",
   "metadata": {},
   "source": [
    "Let's pretend bacon has the list [3.14, 'cat,' 11, 'cat,' True] for the next three questions."
   ]
  },
  {
   "cell_type": "markdown",
   "id": "3131f391-5cf1-4382-8675-ee073c730c1d",
   "metadata": {},
   "source": [
    "6. What is the value of bacon.index('cat')?"
   ]
  },
  {
   "cell_type": "markdown",
   "id": "b2a13b3c-1459-4448-9572-c1d78eafc3a7",
   "metadata": {},
   "source": [
    "Ans."
   ]
  },
  {
   "cell_type": "code",
   "execution_count": 5,
   "id": "63ec5815-6ddc-41e7-90a3-7038101def18",
   "metadata": {},
   "outputs": [
    {
     "data": {
      "text/plain": [
       "1"
      ]
     },
     "execution_count": 5,
     "metadata": {},
     "output_type": "execute_result"
    }
   ],
   "source": [
    "bacon = [3.14, 'cat', 11, 'cat', True]\n",
    "bacon.index('cat')"
   ]
  },
  {
   "cell_type": "markdown",
   "id": "f821c881-88ec-4d2a-b687-e95738823e27",
   "metadata": {},
   "source": [
    "7. How does bacon.append(99) change the look of the list value in bacon?"
   ]
  },
  {
   "cell_type": "code",
   "execution_count": 6,
   "id": "9d256b48-061b-4e49-a17f-f7c89d22a4a2",
   "metadata": {},
   "outputs": [
    {
     "data": {
      "text/plain": [
       "[3.14, 'cat', 11, 'cat', True, 99]"
      ]
     },
     "execution_count": 6,
     "metadata": {},
     "output_type": "execute_result"
    }
   ],
   "source": [
    "\n",
    "bacon = [3.14, 'cat', 11, 'cat', True]\n",
    "bacon.append(99)\n",
    "bacon"
   ]
  },
  {
   "cell_type": "markdown",
   "id": "76ee2237-0cd7-4e23-9c1a-43e965a54f4a",
   "metadata": {},
   "source": [
    "8. How does bacon.remove('cat') change the look of the list in bacon?"
   ]
  },
  {
   "cell_type": "code",
   "execution_count": 7,
   "id": "3dd75e6e-3ead-447d-9671-89f745c45c57",
   "metadata": {},
   "outputs": [
    {
     "data": {
      "text/plain": [
       "[3.14, 11, 'cat', True]"
      ]
     },
     "execution_count": 7,
     "metadata": {},
     "output_type": "execute_result"
    }
   ],
   "source": [
    "bacon = [3.14, 'cat', 11, 'cat', True]\n",
    "bacon.remove('cat')\n",
    "bacon\n",
    "     "
   ]
  },
  {
   "cell_type": "markdown",
   "id": "c3a665e0-011c-453f-814a-9b93d5f6fa15",
   "metadata": {},
   "source": [
    "9. What are the list concatenation and list replication operators?"
   ]
  },
  {
   "cell_type": "markdown",
   "id": "47e574ab-1f6f-428e-82b6-d397183bcf99",
   "metadata": {},
   "source": [
    "Ans. ( * ) is list replication operator ( + ) is list concatination operator"
   ]
  },
  {
   "cell_type": "markdown",
   "id": "06a7256d-d771-4c1e-a3a4-2e3879ae13e0",
   "metadata": {},
   "source": [
    "10. What is difference between the list methods append() and insert()?"
   ]
  },
  {
   "cell_type": "markdown",
   "id": "c76351c8-14a8-421b-99f5-5a591fd820b9",
   "metadata": {},
   "source": [
    "Ans. append() insert object to the end of the list\n",
    "\n",
    "insert() replaces object before index"
   ]
  },
  {
   "cell_type": "markdown",
   "id": "8a15de0f-65a2-48be-87e0-1ee46679605f",
   "metadata": {},
   "source": [
    "11. What are the two methods for removing items from a list?"
   ]
  },
  {
   "cell_type": "markdown",
   "id": "b965266a-733a-42fe-9e42-3db55171007b",
   "metadata": {},
   "source": [
    "Ans. remove and pop are the two methods for removing items from a list"
   ]
  },
  {
   "cell_type": "markdown",
   "id": "3c506927-1dd7-4106-aab7-89f3381afc87",
   "metadata": {},
   "source": [
    "12. Describe how list values and string values are identical."
   ]
  },
  {
   "cell_type": "markdown",
   "id": "ac175952-cc0a-4667-a098-8829853a98d8",
   "metadata": {},
   "source": [
    "Ans\n",
    "1. Both lists and strings can be passed to len()\n",
    "2. Have indexes and slices\n",
    "3. Can be used in for loops\n",
    "4. Can be concatenated or replicated\n",
    "5. Can be used with the in and not in operators"
   ]
  },
  {
   "cell_type": "markdown",
   "id": "f03d3638-70e3-44af-90db-3af0239f12f2",
   "metadata": {},
   "source": [
    "13. What's the difference between tuples and lists?"
   ]
  },
  {
   "cell_type": "markdown",
   "id": "d9876bd4-aa67-4833-850a-c9792492a841",
   "metadata": {},
   "source": [
    "Ans. Lists : are mutable - they can have values added, removed, or changed. lists use the square brackets, [ and ]\n",
    "\n",
    "Tuples : are immutable; they cannot be changed at all. Tuples are written using parentheses, ( and )"
   ]
  },
  {
   "cell_type": "markdown",
   "id": "8f32feb0-b16e-4971-bfe8-88a6098917c9",
   "metadata": {},
   "source": [
    "14. How do you type a tuple value that only contains the integer 42?"
   ]
  },
  {
   "cell_type": "markdown",
   "id": "b1653e97-a20a-4a9c-951b-c53759055626",
   "metadata": {},
   "source": [
    "Ans."
   ]
  },
  {
   "cell_type": "code",
   "execution_count": 8,
   "id": "c0313e08-b9d6-4aab-85ff-e896cc92ffc8",
   "metadata": {},
   "outputs": [
    {
     "data": {
      "text/plain": [
       "(42,)"
      ]
     },
     "execution_count": 8,
     "metadata": {},
     "output_type": "execute_result"
    }
   ],
   "source": [
    "\n",
    "tuple = (42,)\n",
    "tuple"
   ]
  },
  {
   "cell_type": "markdown",
   "id": "f2841ee2-5a04-455c-be04-060cb79a2b4f",
   "metadata": {},
   "source": [
    "15. How do you get a list value's tuple form? How do you get a tuple value's list form?"
   ]
  },
  {
   "cell_type": "markdown",
   "id": "f5d9d32f-6222-4256-881b-5cadf3c1209e",
   "metadata": {},
   "source": [
    "Ans. "
   ]
  },
  {
   "cell_type": "markdown",
   "id": "634a16e7-fb89-404d-bca8-1e4fcc11b19d",
   "metadata": {},
   "source": [
    "#list value's tuple form\n",
    "\n",
    "l1 = [2,3]\n",
    "\n",
    "l = tuple(l1)\n",
    "\n",
    "#tuple value's list form\n",
    "\n",
    "t1 = (3,4)\n",
    "\n",
    "t = list(t1)"
   ]
  },
  {
   "cell_type": "markdown",
   "id": "5b0a6e8e-bba0-499c-8946-269b4b2d5759",
   "metadata": {},
   "source": [
    "16. Variables that \"contain\" list values are not necessarily lists themselves. Instead, what do they contain?"
   ]
  },
  {
   "cell_type": "markdown",
   "id": "1a7c9ead-77f5-4194-a82d-c4fb53c815d5",
   "metadata": {},
   "source": [
    "Ans. They contain references to list values"
   ]
  },
  {
   "cell_type": "markdown",
   "id": "9f6fa305-7c3c-49f8-bb7b-6a62aaf6a13d",
   "metadata": {},
   "source": [
    "17. How do you distinguish between copy.copy() and copy.deepcopy()?"
   ]
  },
  {
   "cell_type": "markdown",
   "id": "4a02fbb0-f45d-4780-a5bf-397d376cf951",
   "metadata": {},
   "source": [
    "Ans . The copy.copy() function will do a shallow copy of a list,\n",
    "The copy.deepcopy() function will do a deep copy of a list. only copy.deepcopy() will duplicate any lists inside the list"
   ]
  },
  {
   "cell_type": "code",
   "execution_count": null,
   "id": "4bebff98-e32a-421c-99f2-f36735b40f33",
   "metadata": {},
   "outputs": [],
   "source": []
  }
 ],
 "metadata": {
  "kernelspec": {
   "display_name": "Python 3 (ipykernel)",
   "language": "python",
   "name": "python3"
  },
  "language_info": {
   "codemirror_mode": {
    "name": "ipython",
    "version": 3
   },
   "file_extension": ".py",
   "mimetype": "text/x-python",
   "name": "python",
   "nbconvert_exporter": "python",
   "pygments_lexer": "ipython3",
   "version": "3.10.6"
  }
 },
 "nbformat": 4,
 "nbformat_minor": 5
}
